{
 "cells": [
  {
   "cell_type": "markdown",
   "id": "74857238",
   "metadata": {},
   "source": [
    "# Division of Labour: Speicialization vs Autarky"
   ]
  },
  {
   "cell_type": "markdown",
   "id": "c1b0b2e7",
   "metadata": {},
   "source": [
    "### 1. Introduction and Problem Statement\n",
    "\n",
    "A central question in economics concerns the conditions under which societies transition from self-sufficiency (autarky) to division of labor and trade. Autarky provides security and independence, but is often inefficient. Specialization, on the other hand, increases productivity by allowing agents to focus on a narrower set of tasks. However, specialization also requires reliable trade and coordination; without these, specialists may be left worse off than autarkists.\n",
    "\n",
    "This study develops a simple evolutionary model to capture the share of market between autarkists and specializied indivviduals. We consider a population of agents who, at each stage, decide whether to:\n",
    "* **Remain autarkic (A)**, producing all goods themselves, or\n",
    "* **Specialize and trade (S)**, relying on others for complementary goods.\n",
    "\n",
    "Each interaction is modeled as a **single-shot game**, and the population share of specialists evolves over time according to evolutionary dynamics. The central question is:\n",
    "\n",
    "> *Under what conditions does specialization become a stable outcome in the economy, and when does autarky persist as the dominant strategy?*"
   ]
  },
  {
   "cell_type": "code",
   "execution_count": null,
   "id": "963618bb",
   "metadata": {},
   "outputs": [],
   "source": [
    "import numpy as np\n",
    "import pandas as pd\n",
    "import matplotlib.pyplot as plt"
   ]
  },
  {
   "cell_type": "markdown",
   "id": "4bc954a6",
   "metadata": {},
   "source": [
    "### 2. Model Parameters\n",
    "\n",
    "The model is defined by the following parameters, each of which captures a real-world aspect of economic exchange:\n",
    "\n",
    "- **$\\alpha$ (Autarky payoff):** Productivity when agents produce all goods independently.  \n",
    "  *Example: A subsistence farmer producing food solely for their household.*\n",
    "\n",
    "- **$\\beta$ (Specialization productivity):** Productivity when agents fully specialize, before accounting for trade frictions.  \n",
    "  *Example: A factory worker focusing on one stage of production.*\n",
    "\n",
    "- **$\\tau$ (Trade friction):** The proportion of specialized output lost due to costs of trade such as transportation, bureaucracy, or corruption.  \n",
    "  *Example: Goods spoiling during transport or losses due to tariffs.*\n",
    "\n",
    "- **$p$ (Trade reliability):** The probability that trade succeeds when two specialists interact.  \n",
    "  *Example: Contracts being honored, deliveries arriving on time, or secure digital payment systems.*\n",
    "\n",
    "- **$f$ (Fallback payoff):** The payoff a specialist receives if trade fails or if matched with an autarkist.  \n",
    "  *Example: A farmer who grows a small subsistence crop alongside a cash crop, or government-provided food rations as a safety net.*\n",
    "\n",
    "- **$x_t$ (Share of specialists):** The fraction of agents in the population who choose specialization at time \\(t\\).  \n",
    "\n",
    "- **$g_t = \\frac{x_{t+1}-x_t}{x_t}$ (Growth rate of specialization):** The relative speed at which the share of specialists grows or shrinks over time.\n",
    "\n",
    "- **$T$ (Total Number of Time Steps):** The total number of Time steps for which the simulation will run.\n"
   ]
  },
  {
   "cell_type": "code",
   "execution_count": null,
   "id": "ef217af3",
   "metadata": {},
   "outputs": [],
   "source": [
    "alpha = 1.0\n",
    "beta = 1.6\n",
    "tau = 0.1\n",
    "p = 0.85\n",
    "f = 0.6\n",
    "T = 200\n",
    "xt = 0.4\n",
    "gt = 0\n",
    "X = [xt]\n",
    "G = [gt]"
   ]
  },
  {
   "cell_type": "markdown",
   "id": "48ebb3f1",
   "metadata": {},
   "source": [
    "### 3. Payoff Structure of the Game\n",
    "\n",
    "Each period, agents are randomly matched to play the game. Their payoffs depend on their own choice and their opponent’s choice. The payoff matrix is as follows:\n",
    "\n",
    "|P1\\P2|S|A|\n",
    "|:---|:---:|:---:|\n",
    "|**S**|$\\pi_{ss}$|$f$|\n",
    "|**A**|$\\alpha$|$\\alpha$|\n",
    "\n",
    "Where:  \n",
    "* $\\pi_{ss} = p \\cdot \\beta(1-\\tau) + (1-p)\\cdot f$ is the expected payoff to a specialist when matched with another specialist.  \n",
    "* $f$ is the fallback payoff to a specialist when matched with an autarkist or when trade fails.  \n",
    "* $\\alpha$ is the payoff to an autarkist, regardless of the opponent’s type.\n"
   ]
  },
  {
   "cell_type": "code",
   "execution_count": null,
   "id": "d5b1b7eb",
   "metadata": {},
   "outputs": [
    {
     "ename": "",
     "evalue": "",
     "output_type": "error",
     "traceback": [
      "\u001b[1;31mRunning cells with '.venv (3.12.3) (Python 3.12.3)' requires the ipykernel package.\n",
      "\u001b[1;31mInstall 'ipykernel' into the Python environment. \n",
      "\u001b[1;31mCommand: '\"c:/Aaradhya Data/IIT Madras Academics/Semester 7 (July - Nov 2025)/CEPP/Specialization-vs-Autarky/.venv/Scripts/python.exe\" -m pip install ipykernel -U --force-reinstall'"
     ]
    }
   ],
   "source": [
    "pi_ss = (p * beta * (1 - tau)) + (f *(1 - p))"
   ]
  },
  {
   "cell_type": "markdown",
   "id": "2238ffb1",
   "metadata": {},
   "source": [
    "### 4. Expected Payoffs\n",
    "\n",
    "Given a specialist share of $x_t$, the expected payoffs are:\n",
    "\n",
    "- For a specialist:\n",
    "$\\pi_S(x_t) = x_t \\cdot \\pi_{SS} + (1-x_t) \\cdot f$\n",
    "\n",
    "- For an autarkist:\n",
    "$\\pi_A(x_t) = \\alpha$\n",
    "\n",
    "Thus, the relative advantage of specialization depends both on **population composition** ($x_t$) and on **environmental parameters** ($p,\\tau,\\alpha,\\beta,f$).\n"
   ]
  },
  {
   "cell_type": "markdown",
   "id": "e146bac0",
   "metadata": {},
   "source": [
    "### 5. Evolutionary Dynamics\n",
    "\n",
    "We use the **replicator dynamic** to model how strategies evolve over time. The normalized form is:\n",
    "\n",
    "$x_{t+1} = \\frac{x_t \\cdot \\pi_S(x_t)}{x_t \\cdot \\pi_S(x_t) + (1-x_t)\\cdot \\pi_A(x_t)}$\n",
    "\n",
    "- If $\\pi_S(x_t) > \\pi_A(x_t)$, the share of specialists increases.  \n",
    "- If $\\pi_S(x_t) < \\pi_A(x_t)$, the share of specialists declines.  \n",
    "- If $\\pi_S(x_t) = \\pi_A(x_t)$, the composition remains stable.  \n",
    "\n",
    "This dynamic captures the idea that strategies yielding higher payoffs spread through imitation or reproduction.\n"
   ]
  },
  {
   "cell_type": "code",
   "execution_count": null,
   "id": "d79f7509",
   "metadata": {},
   "outputs": [],
   "source": [
    "pi_a = alpha\n",
    "for t in range(T):\n",
    "    pi_s = xt * pi_ss + (1 - xt) * f\n",
    "    pi_avg = xt * pi_s + (1 - xt) * pi_a\n",
    "    xt = xt * (pi_s / pi_avg)\n",
    "    gt = (xt - X[-1]) / X[-1]\n",
    "    X.append(xt)\n",
    "    G.append(gt)"
   ]
  },
  {
   "cell_type": "markdown",
   "id": "6c21d1e1",
   "metadata": {},
   "source": [
    "### 6. Objectives of the Study\n",
    "\n",
    "The objectives of this study are as follows:\n",
    "\n",
    "1. **Simulate** the evolutionary dynamics of specialization vs autarky under varying parameters.  \n",
    "2. **Identify threshold effects**, i.e., the critical mass of specialists required for specialization to dominate.  \n",
    "3. **Analyze growth rates** of specialization to understand the speed of adoption.  \n",
    "4. **Explore the effect of frictions and reliability** $(\\tau, p)$ on long-run outcomes.  \n",
    "5. **Draw insights for economic policy**, focusing on how institutions and infrastructure influence the viability of specialization.\n"
   ]
  },
  {
   "cell_type": "markdown",
   "id": "a54d2e47",
   "metadata": {},
   "source": []
  }
 ],
 "metadata": {
  "kernelspec": {
   "display_name": ".venv (3.12.3)",
   "language": "python",
   "name": "python3"
  },
  "language_info": {
   "name": "python",
   "version": "3.12.3"
  }
 },
 "nbformat": 4,
 "nbformat_minor": 5
}
